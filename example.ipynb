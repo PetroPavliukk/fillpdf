{
 "cells": [
  {
   "cell_type": "code",
   "execution_count": 1,
   "metadata": {},
   "outputs": [],
   "source": [
    "from fillpdf import fillpdfs"
   ]
  },
  {
   "cell_type": "code",
   "execution_count": 2,
   "metadata": {},
   "outputs": [
    {
     "data": {
      "text/plain": [
       "{'Text3': '',\n",
       " 'Text2': '',\n",
       " 'Text4': '',\n",
       " 'Text6': '',\n",
       " 'Text5': '',\n",
       " 'Text7': '',\n",
       " 'Text9': '',\n",
       " 'Text10': '',\n",
       " 'Text8': '',\n",
       " 'Text12': '',\n",
       " 'Text11': '',\n",
       " 'Text14': '',\n",
       " 'Text13': '',\n",
       " 'Text17': '',\n",
       " 'Text18': '',\n",
       " 'Text16': '',\n",
       " 'Text20': '',\n",
       " 'Text19': '',\n",
       " 'Text22': '',\n",
       " 'Text21': '',\n",
       " 'Text23': '',\n",
       " 'Text25': '',\n",
       " 'Text26': '',\n",
       " 'Text27': '',\n",
       " 'Text28': '',\n",
       " 'Text29': '',\n",
       " 'Text30': '',\n",
       " 'Text31': '',\n",
       " 'Text32': '',\n",
       " 'Text33': '',\n",
       " 'Text34': '',\n",
       " 'Text35': '',\n",
       " 'Text36': '',\n",
       " 'Kontrollkästchen1': '',\n",
       " 'Kontrollkästchen2': '',\n",
       " 'Kontrollkästchen3': '',\n",
       " 'Kontrollkästchen4': '',\n",
       " 'Text15': '',\n",
       " 'Currency': '',\n",
       " 'Text24': '',\n",
       " 'Patient name': ''}"
      ]
     },
     "execution_count": 2,
     "metadata": {},
     "output_type": "execute_result"
    }
   ],
   "source": [
    "fillpdfs.get_form_fields(\"ex.pdf\")"
   ]
  },
  {
   "cell_type": "code",
   "execution_count": 4,
   "metadata": {
    "scrolled": true
   },
   "outputs": [],
   "source": [
    "data_dict = {'Text3': '292929',\n",
    " 'Text2': 'Tyler',\n",
    " 'Text4': 'Houssian',\n",
    " 'Text6': 'blank',\n",
    " 'Text5': 'Enter',\n",
    " 'Text7': '292992',\n",
    " 'Text9': 'Yes',\n",
    " 'Text10': 'Hello',\n",
    " 'Text8': 'No',\n",
    " 'Text12': 'Show',\n",
    " 'Text11': 'Maybe',\n",
    " 'Text14': '',\n",
    " 'Text13': '',\n",
    " 'Text17': '',\n",
    " 'Text18': '',\n",
    " 'Text16': '',\n",
    " 'Text20': '',\n",
    " 'Text19': '',\n",
    " 'Text22': '',\n",
    " 'Text21': '',\n",
    " 'Text23': '',\n",
    " 'Text25': '',\n",
    " 'Text26': '',\n",
    " 'Text27': '',\n",
    " 'Text28': '',\n",
    " 'Text29': '',\n",
    " 'Text30': '',\n",
    " 'Text31': '',\n",
    " 'Text32': '',\n",
    " 'Text33': '',\n",
    " 'Text34': '',\n",
    " 'Text35': '',\n",
    " 'Text36': '',\n",
    " 'Kontrollkästchen1': '',\n",
    " 'Kontrollkästchen2': '',\n",
    " 'Kontrollkästchen3': '',\n",
    " 'Kontrollkästchen4': '',\n",
    " 'Text15': '',\n",
    " 'Currency': '',\n",
    " 'Text24': '',\n",
    " 'Patient name': 'None'}"
   ]
  },
  {
   "cell_type": "code",
   "execution_count": 5,
   "metadata": {},
   "outputs": [],
   "source": [
    "fillpdfs.write_fillable_pdf('ex.pdf', 'new.pdf', data_dict)"
   ]
  },
  {
   "cell_type": "code",
   "execution_count": 6,
   "metadata": {},
   "outputs": [],
   "source": [
    "fillpdfs.flatten_pdf('new.pdf', 'newflat.pdf')"
   ]
  },
  {
   "cell_type": "code",
   "execution_count": null,
   "metadata": {},
   "outputs": [],
   "source": []
  }
 ],
 "metadata": {
  "kernelspec": {
   "display_name": "Python 3",
   "language": "python",
   "name": "python3"
  },
  "language_info": {
   "codemirror_mode": {
    "name": "ipython",
    "version": 3
   },
   "file_extension": ".py",
   "mimetype": "text/x-python",
   "name": "python",
   "nbconvert_exporter": "python",
   "pygments_lexer": "ipython3",
   "version": "3.8.3"
  }
 },
 "nbformat": 4,
 "nbformat_minor": 4
}
